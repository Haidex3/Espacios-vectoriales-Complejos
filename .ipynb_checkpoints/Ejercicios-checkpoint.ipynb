{
 "cells": [
  {
   "cell_type": "markdown",
   "id": "f43fc972-23ab-4d81-aa26-c51325dac8f3",
   "metadata": {},
   "source": [
    "# Creating complex column vectors"
   ]
  },
  {
   "cell_type": "markdown",
   "id": "a07bd584",
   "metadata": {},
   "source": [
    "# Theory of Complex Vector Spaces\n",
    "Complex vector spaces extend the idea of real vector spaces by allowing vectors to have complex numbers as their components. In these spaces, vectors can be added together and multiplied by complex scalars to produce new vectors. Key operations in complex vector spaces include vector addition, scalar multiplication, vector negation, and complex conjugation."
   ]
  },
  {
   "cell_type": "code",
   "execution_count": null,
   "id": "029f08ba-1cdc-4928-9631-f62c51ab7aa5",
   "metadata": {},
   "outputs": [],
   "source": [
    "import numpy as np\n",
    "\n",
    "# Define a 2x2 square matrix\n",
    "matrix = np.array([[2, 3],\n",
    "                   [1, 4]])\n",
    "\n",
    "# Define a vector of size 2\n",
    "vector = np.array([5, 6])\n",
    "\n",
    "# Multiply the matrix by the vector\n",
    "result = np.dot(matrix, vector)\n",
    "\n",
    "# Display the result\n",
    "print(\"Matrix:\\n\", matrix)\n",
    "print(\"\\nVector:\\n\", vector)\n",
    "print(\"\\nResult of multiplication:\\n\", result)\n"
   ]
  },
  {
   "cell_type": "markdown",
   "id": "975c2284",
   "metadata": {},
   "source": [
    "## Manipulating Complex Column Vectors using NumPy\n",
    "Here we demonstrate how to manipulate complex column vectors using NumPy, including operations like sum, negation, multiplication by a scalar, transpose, adjunct, and conjugate."
   ]
  },
  {
   "cell_type": "code",
   "execution_count": null,
   "id": "e8058abe",
   "metadata": {},
   "outputs": [],
   "source": [
    "\n",
    "import numpy as np\n",
    "\n",
    "# Define two complex column vectors\n",
    "v1 = np.array([[2+3j], [5-4j], [1+1j]])\n",
    "v2 = np.array([[1-1j], [3+2j], [4-4j]])\n",
    "\n",
    "# Sum\n",
    "sum_v = v1 + v2\n",
    "\n",
    "# Negation\n",
    "neg_v1 = -v1\n",
    "\n",
    "# Multiplication by a scalar\n",
    "scalar = 2 + 1j\n",
    "mult_v1 = v1 * scalar\n",
    "\n",
    "# Transpose\n",
    "transpose_v1 = v1.T\n",
    "\n",
    "# Adjunct (Conjugate transpose)\n",
    "adjunct_v1 = v1.T.conj()\n",
    "\n",
    "# Conjugate\n",
    "conjugate_v1 = np.conjugate(v1)\n",
    "\n",
    "(sum_v, neg_v1, mult_v1, transpose_v1, adjunct_v1, conjugate_v1)\n"
   ]
  },
  {
   "cell_type": "markdown",
   "id": "995ae5fc",
   "metadata": {},
   "source": [
    "# Theory of Vector Spaces using Matrices\n",
    "In the context of matrices, vector spaces can be defined where each vector is a matrix of a particular size. Operations on these matrix-vector spaces include matrix addition, scalar multiplication, matrix negation, transpose, adjunct, and conjugate. In this section, we focus on square matrices of size 3x3."
   ]
  },
  {
   "cell_type": "markdown",
   "id": "9385c1f0",
   "metadata": {},
   "source": [
    "## Manipulating Square Matrices using NumPy\n",
    "Examples of how to manipulate 3x3 square matrices using NumPy, showing operations such as sum, negation, multiplication by a scalar, conjugate, transpose, and adjunct."
   ]
  },
  {
   "cell_type": "code",
   "execution_count": 6,
   "id": "b81ecc57",
   "metadata": {},
   "outputs": [
    {
     "data": {
      "text/plain": [
       "(array([[3.+3.j, 6.+0.j, 3.-3.j],\n",
       "        [1.+1.j, 2.+5.j, 6.-2.j],\n",
       "        [7.+3.j, 8.-2.j, 5.+3.j]]),\n",
       " array([[-2.-3.j, -4.+1.j, -0.-0.j],\n",
       "        [-1.-1.j, -3.-3.j, -5.-0.j],\n",
       "        [-4.-0.j, -6.+2.j, -1.+1.j]]),\n",
       " array([[-0.5+2.5j,  2.5+1.5j,  0. +0.j ],\n",
       "        [ 0. +1.j ,  0. +3.j ,  2.5+2.5j],\n",
       "        [ 2. +2.j ,  4. +2.j ,  1. +0.j ]]),\n",
       " array([[2.-3.j, 4.+1.j, 0.-0.j],\n",
       "        [1.-1.j, 3.-3.j, 5.-0.j],\n",
       "        [4.-0.j, 6.+2.j, 1.+1.j]]),\n",
       " array([[2.+3.j, 1.+1.j, 4.+0.j],\n",
       "        [4.-1.j, 3.+3.j, 6.-2.j],\n",
       "        [0.+0.j, 5.+0.j, 1.-1.j]]),\n",
       " array([[2.-3.j, 1.-1.j, 4.-0.j],\n",
       "        [4.+1.j, 3.-3.j, 6.+2.j],\n",
       "        [0.-0.j, 5.-0.j, 1.+1.j]]))"
      ]
     },
     "execution_count": 6,
     "metadata": {},
     "output_type": "execute_result"
    }
   ],
   "source": [
    "\n",
    "# Define two 3x3 complex matrices\n",
    "m1 = np.array([[2+3j, 4-1j, 0], \n",
    "               [1+1j, 3+3j, 5], \n",
    "               [4, 6-2j, 1-1j]])\n",
    "m2 = np.array([[1, 2+1j, 3-3j], \n",
    "               [0, -1+2j, 1-2j], \n",
    "               [3+3j, 2, 4+4j]])\n",
    "\n",
    "# Sum\n",
    "sum_m = m1 + m2\n",
    "\n",
    "# Negation\n",
    "neg_m1 = -m1\n",
    "\n",
    "# Multiplication by a scalar\n",
    "scalar = 0.5 + 0.5j\n",
    "mult_m1 = m1 * scalar\n",
    "\n",
    "# Conjugate\n",
    "conjugate_m1 = np.conjugate(m1)\n",
    "\n",
    "# Transpose\n",
    "transpose_m1 = m1.T\n",
    "\n",
    "# Adjunct (Conjugate transpose)\n",
    "adjunct_m1 = m1.T.conj()\n",
    "\n",
    "(sum_m, neg_m1, mult_m1, conjugate_m1, transpose_m1, adjunct_m1)\n"
   ]
  },
  {
   "cell_type": "markdown",
   "id": "ed909545-8a5c-4cca-85f7-48688b597598",
   "metadata": {},
   "source": [
    "## Checking the Dimension of a Matrix\n",
    "We can check the dimension of a matrix using the `.shape` attribute."
   ]
  },
  {
   "cell_type": "code",
   "execution_count": 7,
   "id": "0930dc10-af6d-427f-bbcb-75bfaf051db5",
   "metadata": {},
   "outputs": [
    {
     "data": {
      "text/plain": [
       "(3, 3)"
      ]
     },
     "execution_count": 7,
     "metadata": {},
     "output_type": "execute_result"
    }
   ],
   "source": [
    "# Checking the dimension of matrix1\n",
    "m1 = np.array([[2+3j, 4-1j, 0], \n",
    "               [1+1j, 3+3j, 5], \n",
    "               [4, 6-2j, 1-1j]])\n",
    "m1.shape"
   ]
  },
  {
   "cell_type": "markdown",
   "id": "b3fe896b",
   "metadata": {},
   "source": [
    "## Action of a Matrix on a Vector\n",
    "Finally, examples of how to use Python to multiply a 3x3 square matrix by a 3x1 column vector."
   ]
  },
  {
   "cell_type": "code",
   "execution_count": 24,
   "id": "e514d047",
   "metadata": {},
   "outputs": [
    {
     "ename": "ValueError",
     "evalue": "shapes (3,3) and (2,1) not aligned: 3 (dim 1) != 2 (dim 0)",
     "output_type": "error",
     "traceback": [
      "\u001b[1;31m---------------------------------------------------------------------------\u001b[0m",
      "\u001b[1;31mValueError\u001b[0m                                Traceback (most recent call last)",
      "Cell \u001b[1;32mIn[24], line 2\u001b[0m\n\u001b[0;32m      1\u001b[0m \u001b[38;5;66;03m# Multiplying a 3x3 matrix by a 3x1 vector\u001b[39;00m\n\u001b[1;32m----> 2\u001b[0m result \u001b[38;5;241m=\u001b[39m \u001b[43mnp\u001b[49m\u001b[38;5;241;43m.\u001b[39;49m\u001b[43mdot\u001b[49m\u001b[43m(\u001b[49m\u001b[43mm1\u001b[49m\u001b[43m,\u001b[49m\u001b[43m \u001b[49m\u001b[43mv1\u001b[49m\u001b[43m)\u001b[49m\n\u001b[0;32m      3\u001b[0m result\n",
      "\u001b[1;31mValueError\u001b[0m: shapes (3,3) and (2,1) not aligned: 3 (dim 1) != 2 (dim 0)"
     ]
    }
   ],
   "source": [
    "# Multiplying a 3x3 matrix by a 3x1 vector\n",
    "result = np.dot(m1, v1)\n",
    "result\n"
   ]
  },
  {
   "cell_type": "markdown",
   "id": "5adf9d8a-af43-4074-ab1a-3cabdc4accff",
   "metadata": {},
   "source": [
    "# Exercises on Complex Vectors and Matrices with Concrete Cases\n",
    "\n",
    "This set of exercises focuses on operations with complex column vectors and complex square matrices, including concrete cases with vectors and matrices written in LaTeX format.\n",
    "\n",
    "## Complex Column Vector Operations\n",
    "\n",
    "### Exercise 1: Sum of Two Complex Vectors\n",
    "Given two complex vectors \n",
    "$$ v1 = \\begin{bmatrix} 1 + 2i \\\\ 3 - i \\end{bmatrix} $$ \n",
    "and \n",
    "$$ v2 = \\begin{bmatrix} 2 - i \\\\ 4 + 2i \\end{bmatrix} $$\n",
    "find their sum.\n",
    "\n",
    "### Solución:\n",
    "La solucion de la suma, como se muestra en el resultado del codigo es:\n",
    "\n",
    "$$ v3 = \\begin{bmatrix} 3 + 1i \\\\ 7 +  1i \\end{bmatrix} $$"
   ]
  },
  {
   "cell_type": "code",
   "execution_count": 2,
   "id": "12949876-03e8-4f25-b566-517ed35ac1e1",
   "metadata": {},
   "outputs": [
    {
     "name": "stdout",
     "output_type": "stream",
     "text": [
      "v1 = [[1.+2.j]\n",
      " [3.-1.j]] \n",
      "v2 = [[2.-1.j]\n",
      " [4.+2.j]] \n",
      "suma = [[3.+1.j]\n",
      " [7.+1.j]]\n"
     ]
    }
   ],
   "source": [
    "import numpy as np\n",
    "\n",
    "v1 = np.array([[1+2j], [3-1j]])\n",
    "v2 = np.array([[2-1j], [4+2j]])\n",
    "sum_m = v1 + v2\n",
    "\n",
    "print(\"v1 =\",v1, \"\\nv2 =\", v2,\"\\nsuma =\",sum_m)"
   ]
  },
  {
   "cell_type": "markdown",
   "id": "44c48b9c-c00d-4eb9-a46d-15870e336027",
   "metadata": {},
   "source": [
    "### Exercise 2: Negation of a Complex Vector\n",
    "Given a complex vector \n",
    "$$ v = \\begin{bmatrix} 2 + 3i \\\\ 1 - 2i \\end{bmatrix} $$\n",
    "find its negation.\n",
    "### Solución:\n",
    "La impresión de la negacion, como se muestra en el resultado del codigo es:\n",
    "\n",
    "$$ -v = \\begin{bmatrix} -2 - 3i \\\\ -1 + 2i \\end{bmatrix} $$"
   ]
  },
  {
   "cell_type": "code",
   "execution_count": 31,
   "id": "a723d2e3-b5be-42f2-b1d1-241951342ae8",
   "metadata": {},
   "outputs": [
    {
     "name": "stdout",
     "output_type": "stream",
     "text": [
      "\n",
      "v1 =  [[2.+3.j]\n",
      " [1.-2.j]] \n",
      "-v1 =  [[-2.-3.j]\n",
      " [-1.+2.j]]\n"
     ]
    }
   ],
   "source": [
    "import numpy as np\n",
    "v1 = np.array([[2+3j], [1-2j]])\n",
    "negacion = -v1\n",
    "print(\"v1 = \", v1,\"\\n-v1 = \", negacion)"
   ]
  },
  {
   "cell_type": "markdown",
   "id": "88489aad-ab65-44d7-a07f-98566fdbc8c9",
   "metadata": {},
   "source": [
    "### Exercise 3: Multiplication of a Complex Vector by a Scalar\n",
    "Multiply the complex vector \n",
    "$$ v = \\begin{bmatrix} 1 - i \\\\ 2 + 2i \\end{bmatrix} $$\n",
    "by the complex scalar $$ 3 + i $$\n",
    "\n",
    "### Solucion:\n",
    "Como se muestra en el resultado del codigo, la multiplicación es igual a:\n",
    "\n",
    "$$ v = \\begin{bmatrix} 4 - 2i \\\\ 4 + 8i \\end{bmatrix} $$ "
   ]
  },
  {
   "cell_type": "code",
   "execution_count": 3,
   "id": "f3260752-30e5-424f-9efe-4c286f3ef06e",
   "metadata": {},
   "outputs": [
    {
     "name": "stdout",
     "output_type": "stream",
     "text": [
      "v1 = [[1.-1.j]\n",
      " [2.+2.j]] \n",
      "scalar = (3+1j) \n",
      "v1 * scalar =  [[4.-2.j]\n",
      " [4.+8.j]]\n"
     ]
    }
   ],
   "source": [
    "import numpy as np\n",
    "v1 = np.array([[1-1j], [2+2j]])\n",
    "scalar = 3 + 1j\n",
    "mult = scalar * v1\n",
    "print(\"v1 =\", v1, \"\\nscalar =\", scalar,\"\\nv1 * scalar = \", mult)\n"
   ]
  },
  {
   "cell_type": "markdown",
   "id": "41199f25-6ad3-4951-978d-90c6fc9b63fa",
   "metadata": {},
   "source": [
    "### Exercise 4: Transpose of a Complex Vector\n",
    "Find the transpose of the complex vector \n",
    "$$ v = \\begin{bmatrix} 2 - i \\\\ 3 + 4i \\end{bmatrix} $$\n",
    "### Solucion:\n",
    "El resultado al hacer la transpuesta del vector es:\n",
    "$$ v^T = \\begin{bmatrix} 2 - i \\\\ 3 + 4i \\end{bmatrix} $$"
   ]
  },
  {
   "cell_type": "code",
   "execution_count": 17,
   "id": "9e83ca33-a1ac-4311-9b3e-3b2871e19140",
   "metadata": {},
   "outputs": [
    {
     "name": "stdout",
     "output_type": "stream",
     "text": [
      "v1 =  [[2.-1.j]\n",
      " [3.+4.j]] \n",
      "Transpose = [[2.-1.j 3.+4.j]]\n"
     ]
    }
   ],
   "source": [
    "v1 = np.array([[2-1j], [3+4j]])\n",
    "transpose_v1 = v1.T\n",
    "print(\"v1 = \",v1,\"\\nTranspose =\", transpose_v1)"
   ]
  },
  {
   "cell_type": "markdown",
   "id": "150c08e6-e2b2-43c1-96cf-89122b8e81de",
   "metadata": {},
   "source": [
    "### Exercise 5: Conjugate of a Complex Vector\n",
    "Compute the conjugate of the complex vector \n",
    "$$ v = \\begin{bmatrix} 1 + i \\\\ 2 - 3i \\end{bmatrix} $$\n",
    "### Solucion:\n",
    "Como muestra el resultado del codigo la respuesta es:\n",
    "$$ v = \\begin{bmatrix} 1 - i \\\\ 2 + 3i \\end{bmatrix} $$"
   ]
  },
  {
   "cell_type": "code",
   "execution_count": 13,
   "id": "593bda85-ee7a-471d-9e87-8cc651b071d3",
   "metadata": {},
   "outputs": [
    {
     "name": "stdout",
     "output_type": "stream",
     "text": [
      "v1 =  [[1.+1.j]\n",
      " [2.-3.j]] \n",
      "Conjugate = [[1.-1.j]\n",
      " [2.+3.j]]\n"
     ]
    }
   ],
   "source": [
    "v1 = np.array([[1+1j], [2-3j]])\n",
    "conjugate_v1 = np.conjugate(v1)\n",
    "print(\"v1 = \", v1,\"\\nConjugate =\", conjugate_v1)"
   ]
  },
  {
   "cell_type": "markdown",
   "id": "29ddb2c7-f263-4dbe-aa4d-48d0f37f8099",
   "metadata": {},
   "source": [
    "### Exercise 6: Adjunct (Conjugate Transpose) of a Complex Vector\n",
    "Find the adjunct (or conjugate transpose) of the complex vector \n",
    "$$ v = \\begin{bmatrix} 1 - 2i \\\\ 3 + i \\end{bmatrix} $$\n",
    "### Solucion\n",
    "Primero se resuelve la conjugada del vector:\n",
    "$$ c = \\begin{bmatrix} 1 + 2i \\\\ 3 - i \\end{bmatrix} $$\n",
    "Posteriormente se le calcula la transpuesta que como muestra el resultadod del codigo es:\n",
    "$$ c^T = \\begin{bmatrix} 1 + 2i \\\\ 3 - i \\end{bmatrix} $$"
   ]
  },
  {
   "cell_type": "code",
   "execution_count": 22,
   "id": "b6739632-e61d-450f-b204-fd65fe834a98",
   "metadata": {},
   "outputs": [
    {
     "name": "stdout",
     "output_type": "stream",
     "text": [
      "v1 =  [[1.-2.j]\n",
      " [3.+1.j]] \n",
      "Conjugate = [[1.+2.j]\n",
      " [3.-1.j]]\n",
      "conjugate/Transpose = [[1.+2.j 3.-1.j]]\n"
     ]
    }
   ],
   "source": [
    "v1 = np.array([[1-2j], [3+1j]])\n",
    "conjugate_v1 = np.conjugate(v1)\n",
    "print(\"v1 = \", v1,\"\\nConjugate =\", conjugate_v1)\n",
    "\n",
    "transpose_c = conjugate_v1.T\n",
    "print(\"conjugate/Transpose =\", transpose_c)"
   ]
  },
  {
   "cell_type": "markdown",
   "id": "b12d5ce4-e448-4134-9da6-1a544f6ec430",
   "metadata": {},
   "source": [
    "### Exercise 7: Sum of Two Complex Matrices\n",
    "Given two complex matrices \n",
    "$$ m1 = \\begin{bmatrix} 1 + i & 2 - i \\\\ 3 + 2i & 4 \\end{bmatrix} $$ \n",
    "and \n",
    "$$ m2 = \\begin{bmatrix} 2 - 3i & 1 \\\\ i & 2 + 2i \\end{bmatrix} $$\n",
    "calculate their sum.\n",
    "### Solucion \n",
    "Como muestra el resultado del codigo la respuesta es:\n",
    "$$ m3 = \\begin{bmatrix} 3 - 2i & 3 - i \\\\ 3 + 3i & 6 + 2i \\end{bmatrix} $$"
   ]
  },
  {
   "cell_type": "code",
   "execution_count": 30,
   "id": "2565496b-7e02-4c5b-885a-e82e90f4985d",
   "metadata": {},
   "outputs": [
    {
     "name": "stdout",
     "output_type": "stream",
     "text": [
      "m1 = [[1.+1.j 2.-1.j]\n",
      " [3.+2.j 4.+0.j]] \n",
      "m2 = [[2.-3.j 1.+0.j]\n",
      " [0.+1.j 2.+2.j]] \n",
      "m1+m2 = m3 = [[3.-2.j 3.-1.j]\n",
      " [3.+3.j 6.+2.j]]\n"
     ]
    }
   ],
   "source": [
    "m1 = np.array([[1+1j, 2-1j], \n",
    "               [3+2j, 4+0j]])\n",
    "m2 = np.array([[2-3j, 1-0j], \n",
    "               [0+1j, 2+2j]])\n",
    "m3= m1+m2\n",
    "print(\"m1 =\",m1,\"\\nm2 =\",m2,\"\\nm1+m2 = m3 =\",m3)"
   ]
  },
  {
   "cell_type": "markdown",
   "id": "cfed4cb9-6e83-4f1b-b1ec-c420a8a35a8b",
   "metadata": {},
   "source": [
    "### Exercise 8: Negation of a Complex Matrix\n",
    "Find the negation of the complex matrix \n",
    "$$ m = \\begin{bmatrix} 2 + i & 3 \\\\ 1 - i & 2 + 2i \\end{bmatrix} $$\n",
    "### Solucion:\n",
    "Como se muestra en el resulktado del codigo la negacion es:\n",
    "$$ -m = \\begin{bmatrix} -2 - i & -3 \\\\ -1 + i & -2 - 2i \\end{bmatrix} $$"
   ]
  },
  {
   "cell_type": "code",
   "execution_count": 35,
   "id": "154a7596-00dd-4dc7-9de9-1d0644960763",
   "metadata": {},
   "outputs": [
    {
     "name": "stdout",
     "output_type": "stream",
     "text": [
      "m = [[2.+1.j 3.+0.j]\n",
      " [1.-1.j 2.+2.j]] \n",
      "egation = [[-2.-1.j -3.-0.j]\n",
      " [-1.+1.j -2.-2.j]]\n"
     ]
    }
   ],
   "source": [
    "m = np.array([[2+1j, 3-0j], \n",
    "               [1-1j, 2+2j]])\n",
    "negation=-m\n",
    "print(\"m =\",m,\"\\negation =\",negation)"
   ]
  },
  {
   "cell_type": "markdown",
   "id": "a144dbf0-d3b5-48b8-84b3-c3a664531bf3",
   "metadata": {},
   "source": [
    "### Exercise 9: Multiplication of a Complex Matrix by a Scalar\n",
    "Multiply the complex matrix \n",
    "$$ m = \\begin{bmatrix} 1 - i & 2 \\\\ 3 + i & 4 - 2i \\end{bmatrix} $$ \n",
    "by the complex scalar $$ 2 + 3i $$\n",
    "### Solucion:\n",
    "Como se muestra en el resultado del codigo la multiplicaicon es igual a:\n",
    "$$ mult = \\begin{bmatrix} 5 + i & 4 + 6i \\\\ 3 + 11i & 14 + 8i \\end{bmatrix} $$ "
   ]
  },
  {
   "cell_type": "code",
   "execution_count": 40,
   "id": "7779e8ce-1f0a-4c7b-9900-33b650339b6c",
   "metadata": {},
   "outputs": [
    {
     "name": "stdout",
     "output_type": "stream",
     "text": [
      "m = [[1.-1.j 2.+0.j]\n",
      " [3.+1.j 4.-2.j]] \n",
      "scalar = (2+3j) \n",
      "mult = [[ 5. +1.j  4. +6.j]\n",
      " [ 3.+11.j 14. +8.j]]\n"
     ]
    }
   ],
   "source": [
    "m = np.array([[1-1j, 2-0j], \n",
    "               [3+1j, 4-2j]])\n",
    "scalar= 2+3j\n",
    "mult= m * scalar\n",
    "print(\"m =\",m,\"\\nscalar =\",scalar,\"\\nmult =\",mult)"
   ]
  },
  {
   "cell_type": "markdown",
   "id": "b3b5d421-ec62-4c35-8c4c-a78a2c6c6ebe",
   "metadata": {},
   "source": [
    "### Exercise 10: Conjugate of a Complex Matrix\n",
    "Compute the conjugate of the complex matrix \n",
    "$$ m = \\begin{bmatrix} 1 + i & 2 \\\\ 3 - i & 4 + 2i \\end{bmatrix} $$\n",
    "### Solucion:\n",
    "Como se ve en la salida del código la respuesta correcta es:\n",
    "$$ m = \\begin{bmatrix} 1 - i & 2 \\\\ 3 + i & 4 - 2i \\end{bmatrix} $$"
   ]
  },
  {
   "cell_type": "code",
   "execution_count": 42,
   "id": "d453d0e3-374f-465b-bd98-8917e8c096fe",
   "metadata": {},
   "outputs": [
    {
     "name": "stdout",
     "output_type": "stream",
     "text": [
      "m = [[1.+1.j 2.+0.j]\n",
      " [3.-1.j 4.+2.j]] \n",
      "conjugate = [[1.-1.j 2.-0.j]\n",
      " [3.+1.j 4.-2.j]]\n"
     ]
    }
   ],
   "source": [
    "m= np.array([[1+1j, 2-0j], \n",
    "               [3-1j, 4+2j]])\n",
    "conjugate_m = np.conjugate(m)\n",
    "print(\"m =\",m,\"\\nconjugate =\", conjugate_m)"
   ]
  },
  {
   "cell_type": "markdown",
   "id": "ae42bb69-049f-43a4-8be8-822e1ee02428",
   "metadata": {},
   "source": [
    "### Exercise 11: Transpose of a Complex Matrix\n",
    "Find the transpose of the complex matrix \n",
    "$$ m = \\begin{bmatrix} 1 - i & 2 + 2i \\\\ 3 & 4 - i \\end{bmatrix} $$\n",
    "### Solucion\n",
    "Como se ve en la salida del código la respuesta correcta es:\n",
    "$$ m^T = \\begin{bmatrix} 1 - i & 3 \\\\ 2 + 2i & 4 - i \\end{bmatrix} $$"
   ]
  },
  {
   "cell_type": "code",
   "execution_count": 2,
   "id": "50f47959-7db3-4fca-a5bf-5bd69c486346",
   "metadata": {},
   "outputs": [
    {
     "name": "stdout",
     "output_type": "stream",
     "text": [
      "m = [[1.-1.j 2.+2.j]\n",
      " [3.+0.j 4.-1.j]] \n",
      "Transpose = [[1.-1.j 3.+0.j]\n",
      " [2.+2.j 4.-1.j]]\n"
     ]
    }
   ],
   "source": [
    "import numpy as np\n",
    "m= np.array([[1-1j, 2+2j], \n",
    "               [3+0j, 4-1j]])\n",
    "transpo= m.T\n",
    "print(\"m =\",m,\"\\nTranspose =\",transpo)"
   ]
  },
  {
   "cell_type": "markdown",
   "id": "26d95e17-2f6a-48a7-bae5-e4bfd51b43c9",
   "metadata": {},
   "source": [
    "### Exercise 12: Adjunct (Conjugate Transpose) of a Complex Matrix\n",
    "Calculate the adjunct (or conjugate transpose) of the complex matrix \n",
    "$$ m = \\begin{bmatrix} 1 + 2i & 3 - i \\\\ 4 & 5 + i \\end{bmatrix} $$\n",
    "### Solucion\n",
    "Primero se resuelve la conjugada de la matriz:\n",
    "$$ c =\\begin{bmatrix} 1 - 2i & 3 + i \\\\ 4 & 5 - i \\end{bmatrix} $$\n",
    "Posteriormente se le calcula la transpuesta que como muestra el resultadod del codigo es:\n",
    "$$ c^T =\\begin{bmatrix} 1 - 2i & 4 \\\\ 3 + i & 5 - i \\end{bmatrix} $$"
   ]
  },
  {
   "cell_type": "code",
   "execution_count": 5,
   "id": "3ea5d8c2-dc20-44c6-a877-c4efdb102985",
   "metadata": {},
   "outputs": [
    {
     "name": "stdout",
     "output_type": "stream",
     "text": [
      "m =  [[1.+2.j 3.-1.j]\n",
      " [4.+0.j 5.+1.j]] \n",
      "Conjugate = [[1.-2.j 3.+1.j]\n",
      " [4.-0.j 5.-1.j]]\n",
      "conjugate/Transpose = [[1.-2.j 4.-0.j]\n",
      " [3.+1.j 5.-1.j]]\n"
     ]
    }
   ],
   "source": [
    "import numpy as np\n",
    "m = np.array([[1+2j, 3-1j], \n",
    "               [4+0j, 5+1j]])\n",
    "conjugate_m = np.conjugate(m)\n",
    "print(\"m = \", m,\"\\nConjugate =\", conjugate_m)\n",
    "transpose_c = conjugate_m.T\n",
    "print(\"conjugate/Transpose =\", transpose_c)"
   ]
  },
  {
   "cell_type": "markdown",
   "id": "2f2b79a8-265d-420f-b393-9937030c1a80",
   "metadata": {},
   "source": [
    "### Exercise 13: Checking the Dimensions of a Matrix\n",
    "Determine the dimensions of the complex matrix.\n",
    "$$ m = \\begin{bmatrix} 1 - i & 2 \\\\ 3 + 2i & 4 - i \\end{bmatrix} $$\n",
    "### Solucion:\n",
    "Como muetra la salida del codigo, la respuesta es:\n",
    "$$ 3x3 $$ "
   ]
  },
  {
   "cell_type": "code",
   "execution_count": 9,
   "id": "8f68cb4b-cc9a-489c-bfa7-70c218345a06",
   "metadata": {},
   "outputs": [
    {
     "name": "stdout",
     "output_type": "stream",
     "text": [
      "m = [[1.-1.j 2.+0.j]\n",
      " [3.+2.j 4.-1.j]] \n",
      "dimensiones: (3, 3)\n"
     ]
    }
   ],
   "source": [
    "m = np.array([[1-1j, 2+0j], \n",
    "               [3+2j, 4-1j]])\n",
    "print(\"m =\",m,\"\\ndimensiones:\",m1.shape)"
   ]
  },
  {
   "cell_type": "markdown",
   "id": "44b6c9e0-20a8-41e4-a2b5-ad2f77ecb579",
   "metadata": {},
   "source": [
    "### Exercise 14: Multiplying a Complex Square Matrix by a Complex Column Vector\n",
    "Multiply the complex square matrix \n",
    "$$ m = \\begin{bmatrix} 1 + i & 2 - i \\\\ 3 & 4 + i \\end{bmatrix} $$ \n",
    "by the complex column vector \n",
    "$$ v = \\begin{bmatrix} 2 - i \\\\ 1 + 3i \\end{bmatrix} $$\n",
    "### Solucion:\n",
    "Como muestra la salida del codigo el resultado de la multiplicacion es:\n",
    "$$ mult = \\begin{bmatrix} 8 + 6i \\\\ 7 + 10i \\end{bmatrix} $$"
   ]
  },
  {
   "cell_type": "code",
   "execution_count": 14,
   "id": "3b64e74d-d1ce-4784-9956-c1210aa5ce4a",
   "metadata": {},
   "outputs": [
    {
     "name": "stdout",
     "output_type": "stream",
     "text": [
      "m = [[1.+1.j 2.-1.j]\n",
      " [3.+0.j 4.+1.j]] \n",
      "v = [[2.-1.j]\n",
      " [1.+3.j]] \n",
      "multiplicacion = [[8. +6.j]\n",
      " [7.+10.j]]\n"
     ]
    }
   ],
   "source": [
    "m = np.array([[1+1j, 2-1j], \n",
    "               [3+0j, 4+1j]])\n",
    "v= np.array([[2-1j], [1+3j]])\n",
    "result = np.dot(m, v)\n",
    "print(\"m =\",m,\"\\nv =\",v,\"\\nmultiplicacion =\",result)"
   ]
  },
  {
   "cell_type": "code",
   "execution_count": null,
   "id": "66bed76e-844e-4a00-8631-2a8d1aec5773",
   "metadata": {},
   "outputs": [],
   "source": []
  }
 ],
 "metadata": {
  "kernelspec": {
   "display_name": "Python 3 (ipykernel)",
   "language": "python",
   "name": "python3"
  },
  "language_info": {
   "codemirror_mode": {
    "name": "ipython",
    "version": 3
   },
   "file_extension": ".py",
   "mimetype": "text/x-python",
   "name": "python",
   "nbconvert_exporter": "python",
   "pygments_lexer": "ipython3",
   "version": "3.12.0"
  }
 },
 "nbformat": 4,
 "nbformat_minor": 5
}

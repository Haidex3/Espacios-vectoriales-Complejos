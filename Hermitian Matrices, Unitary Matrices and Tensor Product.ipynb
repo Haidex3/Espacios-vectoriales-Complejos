{
 "cells": [
  {
   "cell_type": "markdown",
   "id": "2b0bbf62-093b-411e-99e6-335d9c1e908c",
   "metadata": {},
   "source": [
    "# Hermitian Matrices, Unitary Matrices and Tensor Product"
   ]
  },
  {
   "cell_type": "markdown",
   "id": "73c7d3a7-f0b0-4928-a171-6a2af83e7df8",
   "metadata": {},
   "source": [
    "\n",
    "# Understanding Complex Hermitian and Unitary Matrices\n",
    "\n",
    "This tutorial delves into two pivotal concepts in quantum computing and linear algebra: complex Hermitian and Unitary matrices. Both play critical roles in quantum mechanics and quantum computing, underpinning the behavior of quantum systems and the operations performed on them.\n",
    "\n",
    "## Objectives\n",
    "- Define and explore the properties of complex Hermitian matrices.\n",
    "- Understand and implement complex Unitary matrices in Python.\n",
    "- Highlight their significance and applications in quantum computing.\n",
    "\n",
    "Prepare to enhance your mathematical toolkit with these foundational concepts, illustrated with Python examples for a hands-on learning experience."
   ]
  },
  {
   "cell_type": "markdown",
   "id": "092e2772-94e5-40b0-ac7e-4b31fc1cfdd7",
   "metadata": {},
   "source": [
    "## Complex Hermitian Matrices\n",
    "\n",
    "A Hermitian matrix, or self-adjoint matrix, is a square matrix that is equal to its own conjugate transpose. This property makes it a natural representation of observable quantities in quantum mechanics.\n",
    "\n",
    "### Properties\n",
    "- The eigenvalues of a Hermitian matrix are always real.\n",
    "- The eigenvectors of a Hermitian matrix corresponding to different eigenvalues are orthogonal.\n",
    "- Hermitian matrices are extensively used in quantum mechanics to describe physical observables.\n",
    "\n",
    "### Python Example: Defining a Hermitian Matrix"
   ]
  },
  {
   "cell_type": "code",
   "execution_count": 1,
   "id": "29a5bc6e-b632-4dc4-a8f4-bb1b4ae5a913",
   "metadata": {},
   "outputs": [
    {
     "data": {
      "text/plain": [
       "(True,\n",
       " array([[2.+0.j, 2.-1.j],\n",
       "        [2.+1.j, 3.+0.j]]))"
      ]
     },
     "execution_count": 1,
     "metadata": {},
     "output_type": "execute_result"
    }
   ],
   "source": [
    "import numpy as np\n",
    "\n",
    "# Define a complex Hermitian matrix\n",
    "hermitian_matrix = np.array([[2+0j, 2-1j], [2+1j, 3+0j]])\n",
    "\n",
    "# Check if the matrix is Hermitian\n",
    "is_hermitian = np.allclose(hermitian_matrix, hermitian_matrix.conj().T)\n",
    "\n",
    "is_hermitian, hermitian_matrix"
   ]
  },
  {
   "cell_type": "markdown",
   "id": "60c147e1-8768-4875-9af7-c5fbaf57d541",
   "metadata": {},
   "source": [
    "## Complex Unitary Matrices\n",
    "\n",
    "A Unitary matrix is a square matrix whose conjugate transpose is also its inverse. Unitary matrices preserve the inner product, making them essential for describing quantum gates and evolution in quantum computing.\n",
    "\n",
    "### Properties\n",
    "- Preserves the norm of vectors, hence preserving quantum states during transformations.\n",
    "- The determinant of a Unitary matrix has an absolute value of 1.\n",
    "- Used to represent reversible quantum operations and time evolution in quantum systems.\n",
    "\n",
    "### Python Example: Defining a Unitary Matrix\n"
   ]
  },
  {
   "cell_type": "code",
   "execution_count": 2,
   "id": "324d1236-8c71-4c96-8448-d955a8a674dc",
   "metadata": {},
   "outputs": [
    {
     "data": {
      "text/plain": [
       "(True,\n",
       " array([[ 0.70710678+0.j        ,  0.70710678+0.j        ],\n",
       "        [ 0.        +0.70710678j, -0.        -0.70710678j]]))"
      ]
     },
     "execution_count": 2,
     "metadata": {},
     "output_type": "execute_result"
    }
   ],
   "source": [
    "# Define a complex Unitary matrix\n",
    "unitary_matrix = np.array([[1/np.sqrt(2), 1/np.sqrt(2)], [1/np.sqrt(2)*1j, -1/np.sqrt(2)*1j]])\n",
    "\n",
    "# Check if the matrix is Unitary\n",
    "# np.eye(2) returns the identity of size 2x2\n",
    "is_unitary = np.allclose(np.dot(unitary_matrix, unitary_matrix.conj().T), np.eye(2))\n",
    "\n",
    "is_unitary, unitary_matrix\n"
   ]
  },
  {
   "cell_type": "markdown",
   "id": "4284267c-0a08-4d8c-b370-eceb99473cb2",
   "metadata": {},
   "source": [
    "# Tensor product"
   ]
  },
  {
   "cell_type": "markdown",
   "id": "e53b40b1-fee0-4a3a-9a1c-412d0fd04af2",
   "metadata": {},
   "source": [
    "\n",
    "## Tensor Product for Complex Vectors\n",
    "\n",
    "The tensor product of two complex vectors creates a new vector in a higher-dimensional space, allowing us to combine quantum states in quantum computing.\n",
    "\n",
    "### Example"
   ]
  },
  {
   "cell_type": "code",
   "execution_count": 3,
   "id": "b3a82a58-f12b-407d-ba3f-7ed1ad482cc8",
   "metadata": {},
   "outputs": [
    {
     "data": {
      "text/plain": [
       "array([ -7.+16.j,  -9.+22.j,  -9.+38.j, -11.+52.j])"
      ]
     },
     "execution_count": 3,
     "metadata": {},
     "output_type": "execute_result"
    }
   ],
   "source": [
    "import numpy as np\n",
    "\n",
    "# Define two complex vectors for the tensor product\n",
    "v1 = np.array([1+2j, 3+4j])\n",
    "v2 = np.array([5+6j, 7+8j])\n",
    "\n",
    "# Calculate the tensor product\n",
    "tensor_product_v = np.kron(v1, v2)\n",
    "\n",
    "tensor_product_v"
   ]
  },
  {
   "cell_type": "markdown",
   "id": "911ad4bc-a5d6-4a6d-ad07-aff833b4700a",
   "metadata": {},
   "source": [
    "## Tensor Product for Complex Matrices\n",
    "\n",
    "The tensor product for matrices combines individual matrices into a larger matrix, crucial for representing multiple qubit systems in quantum computing.\n",
    "\n",
    "### Example"
   ]
  },
  {
   "cell_type": "markdown",
   "id": "b03ea42e-2cf7-454c-a6cd-299d1c5a479a",
   "metadata": {},
   "source": [
    "\n",
    "# Define two complex matrices for the tensor product\n",
    "M1 = np.array([[1+2j, 3+4j], [5+6j, 7+8j]])\n",
    "M2 = np.array([[9+10j, 11+12j], [13+14j, 15+16j]])\n",
    "\n",
    "# Calculate the tensor product\n",
    "tensor_product_m = np.kron(M1, M2)\n",
    "\n",
    "tensor_product_m\n"
   ]
  },
  {
   "cell_type": "markdown",
   "id": "2e4473ac-c5a1-47f3-927d-948a1263085d",
   "metadata": {},
   "source": [
    "# Exercises on Complex Vector and Matrix Operations\n",
    "\n",
    "This set of exercises is designed to test your understanding of various concepts related to complex vector and matrix operations, which are foundational in quantum computing. Each exercise presents a concrete case for you to apply what you've learned about Hermitian matrices, Unitary matrices, and tensor products.\n",
    "\n",
    "NOTE: VERIFY YOUR COMPUTATIONS IN PAPER AND IN THE COMPUTER.\n",
    "\n",
    "## Exercise 1: Complex Hermitian Matrices\n",
    "\n",
    "Consider the matrix:\n",
    "\n",
    "$$ H = \\begin{bmatrix} 3 & 2+i \\\\ 2-i & 1 \\end{bmatrix} $$\n",
    "\n",
    "- Verify if $ H $ is a Hermitian matrix.\n",
    "- If it is, find its eigenvalues.\n"
   ]
  },
  {
   "cell_type": "markdown",
   "id": "d021d7f3-e7e5-4141-8329-8df789521fe4",
   "metadata": {},
   "source": [
    "# Exercise solutions on Complex Vector and Matrix Operations\n",
    "\n",
    "## Solution 1\n",
    "\n",
    "Consider the matrix:\n",
    "\n",
    "$$ H = \\begin{bmatrix} 3 & 2+i \\\\ 2-i & 1 \\end{bmatrix} $$\n",
    "\n",
    "- Verify if $ H $ is a Hermitian matrix.\n",
    "- If it is, find its eigenvalues.\n",
    "\n",
    "Como una matriz hermitiana es una matriz cuadrada, por lo que cumple la primera condición. Ahora mostremos su conjugada.\n",
    "$$ \\begin{bmatrix} 3 & 2-i \\\\ 2+i & 1 \\end{bmatrix} $$\n",
    "Ahora, transpongamoslo y veamos si es igual a H\n",
    "$$ \\begin{bmatrix} 3 & 2+i \\\\ 2-i & 1 \\end{bmatrix}  = H$$\n",
    "Como es igual, entonces es hermitiano y sus valores propios son:\n",
    "$$-0.44948974$$\n",
    "and\n",
    "$$4.44948974$$"
   ]
  },
  {
   "cell_type": "code",
   "execution_count": 6,
   "id": "9ea5aa33-60f6-4002-a774-e1c7357eb8d1",
   "metadata": {},
   "outputs": [
    {
     "name": "stdout",
     "output_type": "stream",
     "text": [
      "[[3.-0.j 2.-1.j]\n",
      " [2.+1.j 1.-0.j]]\n",
      "[[3.-0.j 2.+1.j]\n",
      " [2.-1.j 1.-0.j]]\n",
      "[-0.44948974  4.44948974]\n"
     ]
    }
   ],
   "source": [
    "import numpy as np\n",
    "h = np.array([[3, 2+1j],[2-1j, 1]])\n",
    "ch = np.conjugate(h)\n",
    "print(ch)\n",
    "h = np.array([[3, 2+1j],[2-1j, 1]])\n",
    "ch = np.conjugate(h)\n",
    "tch = ch.T\n",
    "print(tch)\n",
    "h = np.array([[3, 2+1j],[2-1j, 1]])\n",
    "evals, evecs = np.linalg.eigh(h)\n",
    "print(evals)"
   ]
  },
  {
   "cell_type": "markdown",
   "id": "130a9eed-38a9-4430-a54c-baf4ba2a87f0",
   "metadata": {},
   "source": [
    "## Exercise 2: Complex Unitary Matrices\n",
    "\n",
    "Consider the matrix:\n",
    "\n",
    "$$ U = \\frac{1}{\\sqrt{2}}\\begin{bmatrix} 1 & i \\\\ i & 1 \\end{bmatrix} $$\n",
    "\n",
    "- Verify if $ U $ is a Unitary matrix.\n",
    "- Compute $ UU^\\dagger $ to confirm its Unitarity, where $ U^\\dagger $ denotes the conjugate transpose of $ U $."
   ]
  },
  {
   "cell_type": "markdown",
   "id": "099c4782-a0c3-4d85-b7f9-f395c0815dc6",
   "metadata": {},
   "source": [
    "## Solution :\n",
    "\n",
    "Consider the matrix:\n",
    "\n",
    "$$ U = \\frac{1}{\\sqrt{2}}\\begin{bmatrix} 1 & i \\\\ i & 1 \\end{bmatrix} $$\n",
    "\n",
    "- Verificar si $U$ es una matriz Unitaria.\n",
    "- Calcula $ UU^\\dagger $ para confirmar su unitaridad, donde $ U^\\dagger $ denota la transpuesta conjugada de $ U $.\n",
    "\n",
    "## Solution\n",
    "Note that:\n",
    "$$ \\frac{1}{\\sqrt{2}}\\begin{bmatrix} 1 & i \\\\ i & 1 \\end{bmatrix} * \\frac{1}{\\sqrt{2}}\\begin{bmatrix} 1 & -i \\\\ -i & 1 \\end{bmatrix} = \\frac{1}{2}\\begin{bmatrix} 2 & 0 \\\\ 0 & 2 \\end{bmatrix} = \\begin{bmatrix} 1 & 0 \\\\ 0 & 1 \\end{bmatrix} $$"
   ]
  },
  {
   "cell_type": "code",
   "execution_count": 7,
   "id": "8afd3702-4150-4f6e-ab1c-7fed85ea506c",
   "metadata": {},
   "outputs": [
    {
     "name": "stdout",
     "output_type": "stream",
     "text": [
      "[[2.+0.j 0.+0.j]\n",
      " [0.+0.j 2.+0.j]]\n"
     ]
    }
   ],
   "source": [
    "import numpy as np\n",
    "u = np.array([[1, 1j], [1j, 1]])\n",
    "udag = np.conjugate(u.T)\n",
    "print(np.dot(u, udag))"
   ]
  },
  {
   "cell_type": "markdown",
   "id": "3f5eb17d-84c2-4a5f-bf2e-eab4d56984e2",
   "metadata": {},
   "source": [
    "## Exercise 3: Tensor Product for Complex Vectors\n",
    "\n",
    "Given the complex vectors:\n",
    "\n",
    "$$ \\mathbf{v} = \\begin{bmatrix} 1+i \\\\ 2-i \\end{bmatrix}, \\quad \\mathbf{w} = \\begin{bmatrix} 1-2i \\\\ 3 \\end{bmatrix} $$\n",
    "\n",
    "Calculate the tensor product $ \\mathbf{v} \\otimes \\mathbf{w} $."
   ]
  },
  {
   "cell_type": "markdown",
   "id": "0e11305f-29c8-429e-85f2-5b418f78e7f8",
   "metadata": {},
   "source": [
    "## Solution :\n",
    "\n",
    "Dados los vectores complejos:\n",
    "\n",
    "$$ \\mathbf{v} = \\begin{bmatrix} 1+i \\\\ 2-i \\end{bmatrix}, \\quad \\mathbf{w} = \\begin{bmatrix} 1-2i \\\\ 3 \\end{bmatrix} $$\n",
    "\n",
    "Calcular el producto tensor $ \\mathbf{v} \\otimes \\mathbf{w} $.\n",
    "\n",
    "$$ \\begin{bmatrix} 1+i \\\\ 2-i \\end{bmatrix} \\otimes \\begin{bmatrix} 1-2i \\\\ 3 \\end{bmatrix} = \\begin{bmatrix} 3- i \\\\ 3 + 3i \\\\ -5i \\\\ 6 - 3i \\end{bmatrix}$$"
   ]
  },
  {
   "cell_type": "code",
   "execution_count": 8,
   "id": "e275f0aa-ab60-4575-b903-a8f0d597b546",
   "metadata": {},
   "outputs": [
    {
     "name": "stdout",
     "output_type": "stream",
     "text": [
      "[3.-1.j 3.+3.j 0.-5.j 6.-3.j]\n"
     ]
    }
   ],
   "source": [
    "import numpy as np\n",
    "\n",
    "# Define two complex vectors for the tensor product\n",
    "v1 = np.array([1+1j, 2-1j])\n",
    "v2 = np.array([1-2j, 3])\n",
    "\n",
    "# Calculate the tensor product\n",
    "tensor_product_v = np.kron(v1, v2)\n",
    "print(tensor_product_v)"
   ]
  },
  {
   "cell_type": "markdown",
   "id": "d4b30877-3cf9-4b84-a420-c17e7720b986",
   "metadata": {},
   "source": [
    "## Exercise 4: Tensor Product for Complex Matrices\n",
    "\n",
    "Given the matrices:\n",
    "\n",
    "$$ M_1 = \\begin{bmatrix} 0 & 1 \\\\ 1 & 0 \\end{bmatrix}, \\quad M_2 = \\begin{bmatrix} i & 0 \\\\ 0 & -i \\end{bmatrix} $$\n",
    "\n",
    "Calculate the tensor product $ M_1 \\otimes M_2 $.\n",
    "## Solution:\n",
    "\n",
    "Dadas la matrices:\n",
    "\n",
    "$$ M_1 = \\begin{bmatrix} 0 & 1 \\\\ 1 & 0 \\end{bmatrix}, \\quad M_2 = \\begin{bmatrix} i & 0 \\\\ 0 & -i \\end{bmatrix} $$\n",
    "Calcular el producto tensor:\n",
    "\n",
    "$$ \\begin{bmatrix} 0 & 1 \\\\ 1 & 0 \\end{bmatrix}, \\otimes \\begin{bmatrix} i & 0 \\\\ 0 & -i \\end{bmatrix} = \\begin{bmatrix} 0 & 0 & i & 0 \\\\ 0 & 0 & 0 & -i \\\\ i & 0 & 0 & 0 \\\\ 0 & -i & 0 & 0 \\end{bmatrix} $$"
   ]
  },
  {
   "cell_type": "code",
   "execution_count": 12,
   "id": "6b32a5ab-a550-4683-be04-ec9869b5c3b3",
   "metadata": {},
   "outputs": [
    {
     "name": "stdout",
     "output_type": "stream",
     "text": [
      "[[0.+0.j 0.+0.j 0.+1.j 0.+0.j]\n",
      " [0.+0.j 0.-0.j 0.+0.j 0.-1.j]\n",
      " [0.+1.j 0.+0.j 0.+0.j 0.+0.j]\n",
      " [0.+0.j 0.-1.j 0.+0.j 0.-0.j]]\n"
     ]
    }
   ],
   "source": [
    "import numpy as np\n",
    "m1 = np.array([[0, 1],[1, 0]])\n",
    "m2 = np.array([[1j, 0],[0, -1j]])\n",
    "\n",
    "tenMat = np.kron(m1, m2)\n",
    "print(tenMat)"
   ]
  },
  {
   "cell_type": "markdown",
   "id": "cf2892d3-2e6a-449d-bf1b-186e7a96ee74",
   "metadata": {},
   "source": [
    "## Exercise 5: Modelling quantum computations with vectors and matrices\n",
    "\n",
    "Using matrices and vectors, implement a model of the Mach/Zehnder interferometer.\n",
    "\n",
    "![Mach-Zehnder interferometer](images/Mach-Zehnder-Interferometer.png)\n",
    "## Solucion:\n",
    "\n",
    "Utilizando matrices y vectores, implemente un modelo del interferómetro Mach/Zehnder. Primero tenemos un estado\n",
    "$$ \\psi_{0} = \\begin{bmatrix} 1 \\\\ 0 \\end{bmatrix}$$\n",
    "Luego aplicamos la matriz X sobre este vector y obtenemos el nuevo estado:\n",
    "$$ \\psi_{1} = {X}*\\psi_{0} = \\frac{1}{\\sqrt{2}}\\begin{bmatrix} 1 & 1 \\\\ 1 & -1 \\end{bmatrix}*\\begin{bmatrix} 1 \\\\ 0 \\end{bmatrix} = \\frac{1}{\\sqrt{2}}\\begin{bmatrix} 1 \\\\ 1 \\end{bmatrix}$$\n",
    "A continuación aplicamos la matriz X sobre el sistema y obtenemos:\n",
    "$$ \\psi_{2} = X * \\psi_{1} = \\begin{bmatrix} 0 & 1 \\\\ 1 & 0 \\end{bmatrix}*(\\frac{1}{\\sqrt{2}}\\begin{bmatrix} 1 \\\\ 1 \\end{bmatrix}) = \\frac{1}{\\sqrt{2}}\\begin{bmatrix} 1 \\\\ 1 \\end{bmatrix}$$\n",
    "finalmente aplicamos H nuevamente y obtenemos:\n",
    "$$ \\psi_{3} = H * \\psi_{2} = \\frac{1}{\\sqrt{2}}*\\begin{bmatrix} 1 & 1 \\\\ 1 & -1 \\end{bmatrix}*(\\frac{1}{\\sqrt{2}}\\begin{bmatrix} 1 \\\\ 0 \\end{bmatrix}) = \\frac{1}{2}\\begin{bmatrix} 1 \\\\ 0 \\end{bmatrix}$$"
   ]
  },
  {
   "cell_type": "code",
   "execution_count": 13,
   "id": "eab8721a-ac9f-4ece-9854-3ee9cf46f887",
   "metadata": {},
   "outputs": [
    {
     "name": "stdout",
     "output_type": "stream",
     "text": [
      "[[0.70710678]\n",
      " [0.70710678]] \n",
      " [[0.70710678]\n",
      " [0.70710678]] \n",
      " [[1.00000000e+00]\n",
      " [2.23711432e-17]] \n"
     ]
    }
   ],
   "source": [
    "import numpy as np\n",
    "v0 = np.array([[1],[0]])\n",
    "H = (1/(np.sqrt(2)))*(np.array([[1, 1],[1, -1]]))\n",
    "X = np.array([[0, 1],[1, 0]])\n",
    "v1 = np.dot(H, v0)\n",
    "v2 = np.dot(X, v1)\n",
    "v3 = np.dot(H, v2)\n",
    "print(v1,\"\\n\",v2,\"\\n\",v3,\"\\n\")"
   ]
  },
  {
   "cell_type": "markdown",
   "id": "3293cad2-bb9e-42c7-82db-d7a7179ec6e3",
   "metadata": {},
   "source": [
    "## Exercise 6: Composing quantum systems \n",
    "\n",
    "Using matrices and vectors, implement a model of the following circuit.\n",
    "\n",
    "![Mach-Zehnder interferometer](images/Deutsch-Algorithm.png)\n",
    "\n",
    "Use the following MAtrix for $U_f$:\n",
    "\n",
    "![Mach-Zehnder interferometer](images/ExampleUf.png)\n",
    "## Solucion:\n",
    "Primero, realizamos el producto tensorial entre ambos estados iniciales:\n",
    "$$ \\psi_{0} = \\|0> \\otimes |1> = \\begin{bmatrix} 1 \\\\ 0 \\end{bmatrix} \\otimes \\begin{bmatrix} 0 \\\\ 1 \\end{bmatrix} = \\begin{bmatrix} 1 \\\\ 0 \\\\ 0 \\\\ 0 \\end{bmatrix}$$\n",
    "Ahora, aplicamos el producto tensorial entre dos matrices H y luego lo aplicamos al sistema:\n",
    "$$ \\psi_{1} = (H \\otimes H) * \\psi_{0} =\\frac{1}{2}\\begin{bmatrix} 1&1&1&1 \\\\ 1&-1&1&-1 \\\\ 1&1&-1&-1 \\\\ 1&-1&-1&1 \\end{bmatrix}*\\begin{bmatrix} 1 \\\\ 0 \\\\ 0 \\\\ 0 \\end{bmatrix} = \\frac{1}{2}\\begin{bmatrix} 1 \\\\ -1 \\\\ 1 \\\\ -1 \\end{bmatrix}$$\n",
    "A continuación, aplicamos la matriz U al sistema:\n",
    "$$ \\psi_{2} = U_{f} *\\psi_{1} =\\frac{1}{2}\\begin{bmatrix} 0&1&0&0 \\\\ 1&0&0&0 \\\\ 0&0&1&0 \\\\ 0&0&0&1 \\end{bmatrix}*\\begin{bmatrix} 1 \\\\ -1 \\\\ 1 \\\\ -1 \\end{bmatrix} = \\frac{1}{2}\\begin{bmatrix} -1 \\\\ 1 \\\\ 1 \\\\ -1 \\end{bmatrix}$$\n",
    "Finalmente, realizamos el producto tensorial entre una matriz H y una matriz I, y luego lo aplicamos al sistema:\n",
    "$$ \\psi_{3} = (H \\otimes I) *\\psi_{2} =(\\frac{1}{2})(\\frac{1}{\\sqrt{2}})\\begin{bmatrix} 1&0&1&0 \\\\ 0&1&0&1 \\\\ 1&0&-1&0 \\\\ 0&1&0&-1 \\end{bmatrix}*\\begin{bmatrix} -1 \\\\ 1 \\\\ 1 \\\\ -1 \\end{bmatrix} = \\frac{1}{2\\sqrt{2}}\\begin{bmatrix} 0 \\\\ 0 \\\\ 2 \\\\ -2 \\end{bmatrix} = \\frac{1}{\\sqrt{2}}*\\begin{bmatrix} 0 \\\\ 0 \\\\ 1 \\\\ -1 \\end{bmatrix}$$"
   ]
  },
  {
   "cell_type": "code",
   "execution_count": 15,
   "id": "8eadbf02-a7fc-441f-b0ac-85ac3b75753b",
   "metadata": {},
   "outputs": [
    {
     "name": "stdout",
     "output_type": "stream",
     "text": [
      "[[0]\n",
      " [1]\n",
      " [0]\n",
      " [0]] \n",
      " [[ 0.5]\n",
      " [-0.5]\n",
      " [ 0.5]\n",
      " [-0.5]] \n",
      " [[-0.5]\n",
      " [ 0.5]\n",
      " [ 0.5]\n",
      " [-0.5]] \n",
      " [[ 0.        ]\n",
      " [ 0.        ]\n",
      " [-0.70710678]\n",
      " [ 0.70710678]] \n"
     ]
    }
   ],
   "source": [
    "import numpy as np\n",
    "v00 = np.array([[1],[0]])\n",
    "v11 = np.array([[0],[1]])\n",
    "H = (1/(np.sqrt(2)))*np.array([[1, 1],[1, -1]])\n",
    "I = np.array([[1, 0],[0, 1]])\n",
    "HH = np.kron(H, H)\n",
    "#print(HH)\n",
    "#print()\n",
    "HI = np.kron(H, I)\n",
    "#print(HI)\n",
    "#print()\n",
    "U = np.array([[0, 1, 0, 0],[1, 0, 0, 0],[0, 0, 1, 0],[0, 0, 0, 1]])\n",
    "v0 = np.kron(v00, v11)\n",
    "v1 = np.dot(HH, v0)\n",
    "v2 = np.dot(U, v1)\n",
    "v3 = np.dot(HI, v2)\n",
    "print(v0,\"\\n\",v1,\"\\n\",v2,\"\\n\",v3,\"\\n\")"
   ]
  },
  {
   "cell_type": "code",
   "execution_count": null,
   "id": "82a360eb-18ba-4491-8263-d22e1badb9f0",
   "metadata": {},
   "outputs": [],
   "source": []
  },
  {
   "cell_type": "code",
   "execution_count": null,
   "id": "e9678ed8-abe9-4dd8-8b35-1cd89d57d296",
   "metadata": {},
   "outputs": [],
   "source": []
  }
 ],
 "metadata": {
  "kernelspec": {
   "display_name": "Python 3 (ipykernel)",
   "language": "python",
   "name": "python3"
  },
  "language_info": {
   "codemirror_mode": {
    "name": "ipython",
    "version": 3
   },
   "file_extension": ".py",
   "mimetype": "text/x-python",
   "name": "python",
   "nbconvert_exporter": "python",
   "pygments_lexer": "ipython3",
   "version": "3.12.0"
  }
 },
 "nbformat": 4,
 "nbformat_minor": 5
}
